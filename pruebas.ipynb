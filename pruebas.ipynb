{
 "cells": [
  {
   "cell_type": "code",
   "execution_count": 1,
   "metadata": {},
   "outputs": [],
   "source": [
    "HIGH = '11111111'\n",
    "LOW  = '00000000'\n",
    "\n",
    "\n",
    "def highOrLow(number, value):\n",
    "  return HIGH if number & value else LOW"
   ]
  },
  {
   "cell_type": "code",
   "execution_count": 7,
   "metadata": {},
   "outputs": [
    {
     "name": "stdout",
     "output_type": "stream",
     "text": [
      "2\n"
     ]
    }
   ],
   "source": [
    "a = 1\n",
    "a <<= 1\n",
    "print(a)"
   ]
  },
  {
   "cell_type": "code",
   "execution_count": 16,
   "metadata": {},
   "outputs": [
    {
     "name": "stdout",
     "output_type": "stream",
     "text": [
      "1 00000000\n",
      "2 11111111\n",
      "4 00000000\n",
      "8 00000000\n",
      "16 00000000\n",
      "32 00000000\n",
      "64 00000000\n"
     ]
    }
   ],
   "source": [
    "print(1,highOrLow(a, 0x00000001))\n",
    "print(2,highOrLow(a, 0x00000002))\n",
    "print(4,highOrLow(a, 0x00000004))\n",
    "print(8,highOrLow(a, 0x00000008))\n",
    "print(16,highOrLow(a, 0x00000010))\n",
    "print(32,highOrLow(a, 0x00000020))\n",
    "print(64,highOrLow(a, 0x00000040))"
   ]
  },
  {
   "cell_type": "code",
   "execution_count": 15,
   "metadata": {},
   "outputs": [
    {
     "name": "stdout",
     "output_type": "stream",
     "text": [
      "64\n"
     ]
    }
   ],
   "source": [
    "print(0x000040)"
   ]
  }
 ],
 "metadata": {
  "kernelspec": {
   "display_name": "Python 3.10.6 64-bit (windows store)",
   "language": "python",
   "name": "python3"
  },
  "language_info": {
   "codemirror_mode": {
    "name": "ipython",
    "version": 3
   },
   "file_extension": ".py",
   "mimetype": "text/x-python",
   "name": "python",
   "nbconvert_exporter": "python",
   "pygments_lexer": "ipython3",
   "version": "3.10.7"
  },
  "orig_nbformat": 4,
  "vscode": {
   "interpreter": {
    "hash": "f1846c35f333e473bab36f46ef12ad4f73ac52d71fd23e41317fd46e517bd7f4"
   }
  }
 },
 "nbformat": 4,
 "nbformat_minor": 2
}
